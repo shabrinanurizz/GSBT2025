{
  "nbformat": 4,
  "nbformat_minor": 0,
  "metadata": {
    "colab": {
      "provenance": []
    },
    "kernelspec": {
      "name": "python3",
      "display_name": "Python 3"
    },
    "language_info": {
      "name": "python"
    }
  },
  "cells": [
    {
      "cell_type": "markdown",
      "source": [
        "# Overview Materi\n",
        "\n",
        "Source: https://www.youtube.com/watch?v=LDRbO9a6XPU"
      ],
      "metadata": {
        "id": "fQjXfMWTFXhh"
      }
    },
    {
      "cell_type": "markdown",
      "source": [
        "Jelaskan secara singkat apa itu decision tree menurut pemahamanmu!\n",
        "\n",
        "**Menurut saya, decision tree adalah salah satu metode dalam supervised learning dalam ML yang digunakan untuk memprediksi dengan membagi data ke dalam cabang-cabang berdasarkan aturan tertentu.**"
      ],
      "metadata": {
        "id": "UH5otNgmFY4r"
      }
    },
    {
      "cell_type": "markdown",
      "source": [
        "# Import Data & Libraries"
      ],
      "metadata": {
        "id": "yR_dxhoaIGZY"
      }
    },
    {
      "cell_type": "code",
      "execution_count": 32,
      "metadata": {
        "id": "E3fobMaeFOAe"
      },
      "outputs": [],
      "source": [
        "from __future__ import print_function\n",
        "\n",
        "# label kolom\n",
        "header = [\"color\", \"diameter\", \"label\"]\n",
        "\n",
        "# data training\n",
        "training_data = [\n",
        "    ['Green', 3, 'Apple'],\n",
        "    ['Yellow', 3, 'Apple'],\n",
        "    ['Red', 1, 'Grape'],\n",
        "    ['Red', 1, 'Grape'],\n",
        "    ['Yellow', 3, 'Lemon'],]\n",
        "\n",
        "# data testing\n",
        "testing_data = [\n",
        "    ['Green', 3, 'Apple'],\n",
        "    ['Yellow', 4, 'Apple'],\n",
        "    ['Red', 2, 'Grape'],\n",
        "    ['Red', 1, 'Grape'],\n",
        "    ['Yellow', 3, 'Lemon'],]"
      ]
    },
    {
      "cell_type": "markdown",
      "source": [
        "# Fungsi Dasar"
      ],
      "metadata": {
        "id": "YMsTb3E1MWY6"
      }
    },
    {
      "cell_type": "code",
      "source": [
        "# fungsi mencari apa saja unique value dari suatu kolom\n",
        "def unique_vals(rows, col):\n",
        "    unique_values = set([row[col] for row in rows])\n",
        "    return unique_values\n",
        "\n",
        "# contoh penggunaan\n",
        "unique_vals(training_data, 0)"
      ],
      "metadata": {
        "id": "Bgzx5gwhSTWp",
        "colab": {
          "base_uri": "https://localhost:8080/"
        },
        "outputId": "5487e3fb-58ad-4994-c343-7e99d5dcf8b4"
      },
      "execution_count": 33,
      "outputs": [
        {
          "output_type": "execute_result",
          "data": {
            "text/plain": [
              "{'Green', 'Red', 'Yellow'}"
            ]
          },
          "metadata": {},
          "execution_count": 33
        }
      ]
    },
    {
      "cell_type": "code",
      "source": [
        "# fungsi Menghitung jumlah unique value dari suatu kolom\n",
        "def class_counts(rows, col):\n",
        "    counts = {}\n",
        "    for row in rows:\n",
        "        label = row[col]\n",
        "        if label not in counts:\n",
        "            counts[label] = 0\n",
        "        counts[label] += 1\n",
        "    return counts\n",
        "\n",
        "# contoh penggunaan\n",
        "class_counts(training_data, 0)"
      ],
      "metadata": {
        "id": "hhF6uUhrJesN",
        "colab": {
          "base_uri": "https://localhost:8080/"
        },
        "outputId": "6708845f-5e0b-4dee-9652-3131bd44fd4b"
      },
      "execution_count": 34,
      "outputs": [
        {
          "output_type": "execute_result",
          "data": {
            "text/plain": [
              "{'Green': 1, 'Yellow': 2, 'Red': 2}"
            ]
          },
          "metadata": {},
          "execution_count": 34
        }
      ]
    },
    {
      "cell_type": "code",
      "source": [
        "# fungsi pengecekan suatu value numerik atau bukan\n",
        "def is_numeric(value):\n",
        "    return isinstance(value, (int, float))\n",
        "\n",
        "# contoh penggunaan\n",
        "is_numeric(7)"
      ],
      "metadata": {
        "id": "U9mxqVcnI9vw",
        "colab": {
          "base_uri": "https://localhost:8080/"
        },
        "outputId": "179b71cc-b6fe-4c63-e1d7-c0f004709954"
      },
      "execution_count": 35,
      "outputs": [
        {
          "output_type": "execute_result",
          "data": {
            "text/plain": [
              "True"
            ]
          },
          "metadata": {},
          "execution_count": 35
        }
      ]
    },
    {
      "cell_type": "code",
      "source": [
        "# kelas untuk merepresentasikan pertanyaan pada decision tree\n",
        "class Question:\n",
        "\n",
        "    # inisialisasi kolom dan nilai pertanyaan\n",
        "    def __init__(self, column, value):\n",
        "        self.column = column\n",
        "        self.value = value\n",
        "\n",
        "    # mengecek apakah contoh data sesuai dengan pertanyaan\n",
        "    def match(self, example):\n",
        "        val = example[self.column]\n",
        "        if is_numeric(val):\n",
        "            return val >= self.value\n",
        "        else:\n",
        "            return val == self.value\n",
        "\n",
        "    # menampilkan pertanyaan dalam format string yang mudah dibaca\n",
        "    def __repr__(self):\n",
        "        condition = \"==\"\n",
        "        if is_numeric(self.value):\n",
        "            condition = \">=\"\n",
        "        return \"Is %s %s %s?\" % (\n",
        "            header[self.column], condition, str(self.value))\n",
        "\n",
        "# contoh penggunaan 1\n",
        "print(Question(1, 3))\n",
        "\n",
        "# contoh penggunaan 2\n",
        "print(Question(0, 'Green'))"
      ],
      "metadata": {
        "id": "MekftmdeLPRo",
        "colab": {
          "base_uri": "https://localhost:8080/"
        },
        "outputId": "71f419b4-4caf-4e8a-d19e-2ab41a11c306"
      },
      "execution_count": 36,
      "outputs": [
        {
          "output_type": "stream",
          "name": "stdout",
          "text": [
            "Is diameter >= 3?\n",
            "Is color == Green?\n"
          ]
        }
      ]
    },
    {
      "cell_type": "code",
      "source": [
        "# membagi dataset menjadi dua berdasarkan pertanyaan\n",
        "def partition(rows, question):\n",
        "  true_rows, false_rows = [], []\n",
        "  for row in rows:\n",
        "    if question.match(row):\n",
        "      true_rows.append(row)\n",
        "    else:\n",
        "      false_rows.append(row)\n",
        "  return true_rows, false_rows\n",
        "\n",
        "# contoh penggunaan\n",
        "true_rows, false_rows = partition(training_data, Question(0, 'Red'))\n",
        "print(true_rows)\n",
        "print(false_rows)"
      ],
      "metadata": {
        "id": "Y3lTf9NbL8Ik",
        "colab": {
          "base_uri": "https://localhost:8080/"
        },
        "outputId": "921c95c8-73de-40f1-dadf-7f2e1db28e8d"
      },
      "execution_count": 37,
      "outputs": [
        {
          "output_type": "stream",
          "name": "stdout",
          "text": [
            "[['Red', 1, 'Grape'], ['Red', 1, 'Grape']]\n",
            "[['Green', 3, 'Apple'], ['Yellow', 3, 'Apple'], ['Yellow', 3, 'Lemon']]\n"
          ]
        }
      ]
    },
    {
      "cell_type": "markdown",
      "source": [
        "**apa itu gini impurity?**\n",
        "<br> gini impurity berfungsi mengukur tingkat ketidakmurnian atau ketidakteraturan pada sebuah simpul (node) dalam pohon"
      ],
      "metadata": {
        "id": "X4D5BkyeMdSG"
      }
    },
    {
      "cell_type": "code",
      "source": [
        "# menghitung nilai Gini Impurity untuk sebuah dataset\n",
        "def gini(rows):\n",
        "  counts = class_counts(rows, 2)\n",
        "  impurity = 1\n",
        "  for label in counts:\n",
        "      prob_of_lbl = counts[label] / float(len(rows))\n",
        "      impurity -= prob_of_lbl**2\n",
        "  return impurity\n",
        "\n",
        "# contoh penggunaan\n",
        "gini(training_data)"
      ],
      "metadata": {
        "id": "DmAnmSzFMKtA",
        "colab": {
          "base_uri": "https://localhost:8080/"
        },
        "outputId": "3492fc73-2b5c-4d1b-d66d-37959a7aaecd"
      },
      "execution_count": 38,
      "outputs": [
        {
          "output_type": "execute_result",
          "data": {
            "text/plain": [
              "0.6399999999999999"
            ]
          },
          "metadata": {},
          "execution_count": 38
        }
      ]
    },
    {
      "cell_type": "markdown",
      "source": [
        "**apa itu information gain?**\n",
        "<br> information gain berfungsi mengukur seberapa efektif sebuah fitur dalam memisahkan data berdasarkan kelas-kelasnya"
      ],
      "metadata": {
        "id": "SyxWlLNOM_2U"
      }
    },
    {
      "cell_type": "code",
      "source": [
        "# menghitung nilai Information Gain dari pemisahan dataset\n",
        "def info_gain(left, right, current_uncertainty):\n",
        "    p = float(len(left)) / (len(left) + len(right))\n",
        "    return current_uncertainty - p * gini(left) - (1 - p) * gini(right)\n",
        "\n",
        "# contoh penggunaan\n",
        "info_gain(true_rows, false_rows, gini(training_data))"
      ],
      "metadata": {
        "id": "rObVucEEMiIZ",
        "colab": {
          "base_uri": "https://localhost:8080/"
        },
        "outputId": "b397cff7-9b4f-49fe-bc1d-79b5df5c7995"
      },
      "execution_count": 39,
      "outputs": [
        {
          "output_type": "execute_result",
          "data": {
            "text/plain": [
              "0.37333333333333324"
            ]
          },
          "metadata": {},
          "execution_count": 39
        }
      ]
    },
    {
      "cell_type": "code",
      "source": [
        "from os.path import split\n",
        "# mencari pertanyaan terbaik untuk membagi dataset berdasarkan information gain tertinggi\n",
        "def find_best_split(rows):\n",
        "    best_gain = 0  # simpan IG tertinggi\n",
        "    best_question = None\n",
        "    current_uncertainty = gini(rows)  # impurity awal\n",
        "    n_features = len(rows[0]) - 1     # jumlah kolom fitur (exclude label)\n",
        "\n",
        "    for col in range(n_features):\n",
        "        values = set([row[col] for row in rows])  # semua value unik di kolom ini\n",
        "\n",
        "        for val in values:\n",
        "            question = Question(col, val)\n",
        "\n",
        "            # Splitting the dataset\n",
        "            true_rows, false_rows = partition(rows, question)\n",
        "\n",
        "            # Skip this split if it doesn't divide the dataset\n",
        "            if len(true_rows) == 0 or len(false_rows) == 0:\n",
        "                continue\n",
        "\n",
        "            # Calculate the information gain from this split\n",
        "            gain = info_gain(true_rows, false_rows, current_uncertainty)\n",
        "\n",
        "            # update best split\n",
        "            if gain >= best_gain:\n",
        "                best_gain, best_question = gain, question\n",
        "\n",
        "    return best_gain, best_question\n",
        "\n",
        "# contoh penggunaan\n",
        "best_gain, best_question = find_best_split(training_data)\n",
        "print(\"Best Gain:\", best_gain)\n",
        "print(\"Best Question:\", best_question)"
      ],
      "metadata": {
        "id": "OK8Lc7koOIyS",
        "colab": {
          "base_uri": "https://localhost:8080/"
        },
        "outputId": "62996638-91cd-4913-c514-af01dbe918d8"
      },
      "execution_count": 40,
      "outputs": [
        {
          "output_type": "stream",
          "name": "stdout",
          "text": [
            "Best Gain: 0.37333333333333324\n",
            "Best Question: Is diameter >= 3?\n"
          ]
        }
      ]
    },
    {
      "cell_type": "markdown",
      "source": [
        "# Fungsi Decision Tree"
      ],
      "metadata": {
        "id": "t225xaaIPGow"
      }
    },
    {
      "cell_type": "code",
      "source": [
        "# merepresentasikan node daun (leaf) pada decision tree yang berisi hasil prediksi\n",
        "class Leaf:\n",
        "\n",
        "    # inisialisasi leaf dengan menghitung jumlah kemunculan tiap kelas\n",
        "    def __init__(self, rows):\n",
        "        self.predictions = class_counts(rows, 2)\n",
        "\n",
        "leaf = Leaf(training_data)\n",
        "print(leaf.predictions)"
      ],
      "metadata": {
        "id": "3KXNVwMPOZ5c",
        "colab": {
          "base_uri": "https://localhost:8080/"
        },
        "outputId": "8537bd78-3762-40df-8e5e-17c3b6f02ba1"
      },
      "execution_count": 41,
      "outputs": [
        {
          "output_type": "stream",
          "name": "stdout",
          "text": [
            "{'Apple': 2, 'Grape': 2, 'Lemon': 1}\n"
          ]
        }
      ]
    },
    {
      "cell_type": "code",
      "source": [
        "# merepresentasikan node keputusan (decision node) yang berisi pertanyaan dan cabang\n",
        "class Decision_Node:\n",
        "\n",
        "    # inisialisasi node dengan pertanyaan, cabang benar, dan cabang salah\n",
        "    def __init__(self,\n",
        "                 question,\n",
        "                 true_branch,\n",
        "                 false_branch):\n",
        "        self.question = question\n",
        "        self.true_branch = true_branch\n",
        "        self.false_branch = false_branch"
      ],
      "metadata": {
        "id": "gktUwUY-P-eN"
      },
      "execution_count": 42,
      "outputs": []
    },
    {
      "cell_type": "code",
      "source": [
        "# membangun decision tree secara rekursif\n",
        "def build_tree(rows):\n",
        "\n",
        "    gain, question = find_best_split(rows)\n",
        "\n",
        "    if gain == 0:\n",
        "        return Leaf(rows)\n",
        "\n",
        "    true_rows, false_rows = partition(rows, question)\n",
        "\n",
        "    true_branch = build_tree(true_rows)\n",
        "\n",
        "    false_branch = build_tree(false_rows)\n",
        "\n",
        "    return Decision_Node(question, true_branch, false_branch)"
      ],
      "metadata": {
        "id": "_cWHvsMKPPsk"
      },
      "execution_count": 43,
      "outputs": []
    },
    {
      "cell_type": "code",
      "source": [
        "# mencetak struktur decision tree secara rekursif dalam format teks\n",
        "def print_tree(node, spacing=\"\"):\n",
        "\n",
        "    # base case: jika sudah mencapai leaf\n",
        "    if isinstance(node, Leaf):\n",
        "        print (spacing + \"Predict\", node.predictions)\n",
        "        return\n",
        "\n",
        "    # mencetak pertanyaan pada node saat ini\n",
        "    print (spacing + str(node.question))\n",
        "\n",
        "    # mencetak cabang true secara rekursif\n",
        "    print (spacing + '--> True:')\n",
        "    print_tree(node.true_branch, spacing + \"  \")\n",
        "\n",
        "    # mencetak cabang false secara rekursif\n",
        "    print (spacing + '--> False:')\n",
        "    print_tree(node.false_branch, spacing + \"  \")\n",
        "\n",
        "# contoh penggunaan\n",
        "my_tree = build_tree(training_data)\n",
        "print_tree(my_tree)"
      ],
      "metadata": {
        "id": "tx_AbjiYPS05",
        "colab": {
          "base_uri": "https://localhost:8080/"
        },
        "outputId": "4da36524-81b1-4ff0-f9d0-66f2c5940dae"
      },
      "execution_count": 44,
      "outputs": [
        {
          "output_type": "stream",
          "name": "stdout",
          "text": [
            "Is diameter >= 3?\n",
            "--> True:\n",
            "  Is color == Yellow?\n",
            "  --> True:\n",
            "    Predict {'Apple': 1, 'Lemon': 1}\n",
            "  --> False:\n",
            "    Predict {'Apple': 1}\n",
            "--> False:\n",
            "  Predict {'Grape': 2}\n"
          ]
        }
      ]
    },
    {
      "cell_type": "code",
      "source": [
        "# mengklasifikasikan satu baris data menggunakan decision tree\n",
        "def classify(row, node):\n",
        "\n",
        "    # base case: jika sudah mencapai leaf\n",
        "    if isinstance(node, Leaf):\n",
        "        return node.predictions\n",
        "\n",
        "    # menentukan apakah mengikuti cabang true atau cabang false\n",
        "    # dengan membandingkan nilai fitur pada baris dengan pertanyaan di node\n",
        "    if node.question.match(row):\n",
        "        return classify(row, node.true_branch)\n",
        "    else:\n",
        "        return classify(row, node.false_branch)\n",
        "\n",
        "# contoh penggunaan\n",
        "my_tree = build_tree(training_data)\n",
        "print(\"Prediction for ['Green', 3, 'Apple']:\", classify(['Green', 3, 'Apple'], my_tree))\n",
        "print(\"Prediction for ['Red', 1, 'Grape']:\", classify(['Red', 1, 'Grape'], my_tree))"
      ],
      "metadata": {
        "id": "tchvhQc-PVC2",
        "colab": {
          "base_uri": "https://localhost:8080/"
        },
        "outputId": "d5ce9586-bf0e-4117-d16b-4af1d1a90eaa"
      },
      "execution_count": 45,
      "outputs": [
        {
          "output_type": "stream",
          "name": "stdout",
          "text": [
            "Prediction for ['Green', 3, 'Apple']: {'Apple': 1}\n",
            "Prediction for ['Red', 1, 'Grape']: {'Grape': 2}\n"
          ]
        }
      ]
    },
    {
      "cell_type": "code",
      "source": [
        "# menampilkan prediksi pada leaf dalam format persentase\n",
        "def print_leaf(counts):\n",
        "    total = sum(counts.values()) * 1.0\n",
        "    probs = {}\n",
        "    for label in counts.keys():\n",
        "        probs[label] = str(int(counts[label] / total * 100)) + \"%\"\n",
        "    return probs\n",
        "\n",
        "# contoh penggunaan\n",
        "print_leaf(classify(training_data[1], my_tree))"
      ],
      "metadata": {
        "id": "w8r0lzWpQM7c",
        "colab": {
          "base_uri": "https://localhost:8080/"
        },
        "outputId": "fcc391af-4446-40fd-b7b5-5ef336279980"
      },
      "execution_count": 46,
      "outputs": [
        {
          "output_type": "execute_result",
          "data": {
            "text/plain": [
              "{'Apple': '50%', 'Lemon': '50%'}"
            ]
          },
          "metadata": {},
          "execution_count": 46
        }
      ]
    },
    {
      "cell_type": "markdown",
      "source": [
        "# Predict Using Decision Tree"
      ],
      "metadata": {
        "id": "JLT1_TuuQWlI"
      }
    },
    {
      "cell_type": "code",
      "source": [
        "# menguji decision tree dengan data uji dan membandingkan hasil prediksi dengan label asli\n",
        "for row in testing_data:\n",
        "    prediction = classify(row, my_tree)\n",
        "    actual_label = row[-1]\n",
        "    print(\"Actual: %s, Prediction: %s\" % (actual_label, print_leaf(prediction)))"
      ],
      "metadata": {
        "id": "DhG5NCwHQSlF",
        "colab": {
          "base_uri": "https://localhost:8080/"
        },
        "outputId": "ff53f365-13da-45bd-aa0a-43e9d02a8fe4"
      },
      "execution_count": 47,
      "outputs": [
        {
          "output_type": "stream",
          "name": "stdout",
          "text": [
            "Actual: Apple, Prediction: {'Apple': '100%'}\n",
            "Actual: Apple, Prediction: {'Apple': '50%', 'Lemon': '50%'}\n",
            "Actual: Grape, Prediction: {'Grape': '100%'}\n",
            "Actual: Grape, Prediction: {'Grape': '100%'}\n",
            "Actual: Lemon, Prediction: {'Apple': '50%', 'Lemon': '50%'}\n"
          ]
        }
      ]
    }
  ]
}